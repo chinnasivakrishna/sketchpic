{
  "nbformat": 4,
  "nbformat_minor": 0,
  "metadata": {
    "colab": {
      "provenance": []
    },
    "kernelspec": {
      "name": "python3",
      "display_name": "Python 3"
    },
    "language_info": {
      "name": "python"
    }
  },
  "cells": [
    {
      "cell_type": "code",
      "execution_count": null,
      "metadata": {
        "id": "UW_kQ7X4rY5W"
      },
      "outputs": [],
      "source": [
        "!pip install tensorflow-addons\n",
        "!pip install tensorflow\n",
        "!pip install keras\n"
      ]
    },
    {
      "cell_type": "code",
      "source": [
        "import cv2\n",
        "import numpy as np\n",
        "\n",
        "def upload_image():\n",
        "    file_path = input(\"Enter the path to the image file: \")\n",
        "    image = cv2.imread(file_path, cv2.IMREAD_COLOR)\n",
        "    return image\n",
        "\n",
        "# Upload the image\n",
        "image = upload_image()\n",
        "\n",
        "if image is None:\n",
        "    print(\"Image not found or could not be loaded.\")\n",
        "else:\n",
        "    # Convert the image to grayscale\n",
        "    grayscale_image = cv2.cvtColor(image, cv2.COLOR_BGR2GRAY)\n",
        "\n",
        "    # Apply bilateral filtering to enhance edges while removing noise\n",
        "    filtered_image = cv2.bilateralFilter(grayscale_image, d=9, sigmaColor=75, sigmaSpace=75)\n",
        "\n",
        "    # Apply adaptive thresholding to create a binary image\n",
        "    threshold_image = cv2.adaptiveThreshold(filtered_image, 255, cv2.ADAPTIVE_THRESH_GAUSSIAN_C,\n",
        "                                            cv2.THRESH_BINARY_INV, 11, 2)\n",
        "\n",
        "    # Apply erosion to eliminate small dots\n",
        "    kernel = np.ones((3, 3), np.uint8)\n",
        "    eroded_image = cv2.erode(threshold_image, kernel, iterations=1)\n",
        "\n",
        "    # Find the contours in the eroded image\n",
        "    contours, _ = cv2.findContours(eroded_image, cv2.RETR_EXTERNAL, cv2.CHAIN_APPROX_SIMPLE)\n",
        "\n",
        "    # Create a blank white image with the same size as the original image\n",
        "    sketch_image = np.ones_like(image) * 255\n",
        "\n",
        "    # Draw each contour on the blank image with black color (0) and thicker lines (3)\n",
        "    for contour in contours:\n",
        "        cv2.drawContours(sketch_image, [contour], -1, (0), 3)\n",
        "\n",
        "    # Create a mask to isolate the eye globe area\n",
        "    if len(contours) > 0:\n",
        "        mask = np.zeros_like(grayscale_image)\n",
        "        cv2.drawContours(mask, contours, -1, 255, thickness=cv2.FILLED)\n",
        "\n",
        "        # Change the eye globe area to dim black using the mask\n",
        "        sketch_image[mask == 255] = 50  # Change the intensity value here\n",
        "\n",
        "    # Combine the uploaded image and the sketch output side by side\n",
        "    combined_image = np.hstack((image, sketch_image))\n",
        "\n",
        "    # Display the combined image\n",
        "    cv2.imshow(\"Combined Image\", combined_image)\n",
        "    cv2.waitKey(0)\n",
        "    cv2.destroyAllWindows()\n"
      ],
      "metadata": {
        "id": "ERiRvhPFraTU"
      },
      "execution_count": null,
      "outputs": []
    }
  ]
}